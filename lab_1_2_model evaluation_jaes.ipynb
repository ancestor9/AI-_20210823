{
 "cells": [
  {
   "cell_type": "markdown",
   "id": "ed2c8029",
   "metadata": {},
   "source": [
    "# Model Evaluation"
   ]
  },
  {
   "cell_type": "markdown",
   "id": "wireless-target",
   "metadata": {},
   "source": [
    "## 어떤 모델이 좋은 모델인가?"
   ]
  },
  {
   "cell_type": "code",
   "execution_count": 1,
   "id": "closing-eleven",
   "metadata": {},
   "outputs": [
    {
     "data": {
      "text/html": [
       "<style>.container { width:100% !important; }</style>"
      ],
      "text/plain": [
       "<IPython.core.display.HTML object>"
      ]
     },
     "metadata": {},
     "output_type": "display_data"
    }
   ],
   "source": [
    "from IPython.core.display import display, HTML\n",
    "display(HTML(\"<style>.container { width:100% !important; }</style>\"))"
   ]
  },
  {
   "cell_type": "code",
   "execution_count": 2,
   "id": "a7ef8a6b",
   "metadata": {},
   "outputs": [],
   "source": [
    "import warnings\n",
    "warnings.filterwarnings(action='ignore') "
   ]
  },
  {
   "cell_type": "code",
   "execution_count": 3,
   "id": "45c61aea",
   "metadata": {},
   "outputs": [],
   "source": [
    "import seaborn as sns\n",
    "import matplotlib.pyplot as plt\n",
    "get_ipython().run_line_magic('matplotlib', 'inline')\n",
    "import pandas as pd\n",
    "import numpy as np"
   ]
  },
  {
   "cell_type": "code",
   "execution_count": 6,
   "id": "compact-fountain",
   "metadata": {},
   "outputs": [],
   "source": [
    "size_korea = pd.read_csv('../data/size_korea_small.csv')"
   ]
  },
  {
   "cell_type": "code",
   "execution_count": 7,
   "id": "statutory-czech",
   "metadata": {},
   "outputs": [],
   "source": [
    "from sklearn.preprocessing import StandardScaler\n",
    "from sklearn.linear_model import LogisticRegression\n",
    "# load \n",
    "X = size_korea[['키','몸무게','체지방율']].values\n",
    "y = size_korea.성별.replace({'남':0,'여':1})"
   ]
  },
  {
   "cell_type": "markdown",
   "id": "swiss-packaging",
   "metadata": {},
   "source": [
    "#### 층화 추출"
   ]
  },
  {
   "cell_type": "code",
   "execution_count": 90,
   "id": "orange-morning",
   "metadata": {},
   "outputs": [],
   "source": [
    "from sklearn.model_selection import train_test_split\n",
    "X_train, X_test, y_train, y_test = train_test_split(X, y, stratify=y, random_state=0)"
   ]
  },
  {
   "cell_type": "code",
   "execution_count": 91,
   "id": "upper-velvet",
   "metadata": {},
   "outputs": [
    {
     "data": {
      "text/plain": [
       "((569, 30), (569,), (426, 30), (143, 30), (426,), (143,))"
      ]
     },
     "execution_count": 91,
     "metadata": {},
     "output_type": "execute_result"
    }
   ],
   "source": [
    "X.shape, y.shape, X_train.shape, X_test.shape, y_train.shape, y_test.shape"
   ]
  },
  {
   "cell_type": "code",
   "execution_count": 92,
   "id": "amateur-bearing",
   "metadata": {
    "scrolled": true
   },
   "outputs": [
    {
     "data": {
      "text/plain": [
       "SVC(probability=True, random_state=0)"
      ]
     },
     "execution_count": 92,
     "metadata": {},
     "output_type": "execute_result"
    }
   ],
   "source": [
    "from sklearn.svm import SVC\n",
    "clf = SVC(random_state=0, probability=True)\n",
    "clf.fit(X_train, y_train)"
   ]
  },
  {
   "cell_type": "markdown",
   "id": "interstate-blake",
   "metadata": {},
   "source": [
    "## confusion_matrix"
   ]
  },
  {
   "cell_type": "code",
   "execution_count": 93,
   "id": "annual-updating",
   "metadata": {},
   "outputs": [
    {
     "data": {
      "image/png": "[encoded data removed]",
      "text/plain": [
       "<Figure size 432x288 with 2 Axes>"
      ]
     },
     "metadata": {
      "needs_background": "light"
     },
     "output_type": "display_data"
    }
   ],
   "source": [
    "from sklearn.metrics import plot_confusion_matrix\n",
    "plot_confusion_matrix(clf, X_test, y_test)\n",
    "plt.show()"
   ]
  },
  {
   "cell_type": "code",
   "execution_count": 94,
   "id": "innocent-nebraska",
   "metadata": {},
   "outputs": [
    {
     "data": {
      "text/plain": [
       "array([[89,  1],\n",
       "       [ 9, 44]], dtype=int64)"
      ]
     },
     "execution_count": 94,
     "metadata": {},
     "output_type": "execute_result"
    }
   ],
   "source": [
    "from sklearn.metrics import confusion_matrix\n",
    "y_pred = clf.predict(X_test)\n",
    "confusion_matrix(y_test, y_pred)\n",
    "# sns.heatmap(confusion_matrix(y_test, y_pred), annot = True, fmt=\"d\")"
   ]
  },
  {
   "cell_type": "markdown",
   "id": "failing-moment",
   "metadata": {},
   "source": [
    "### classification_report"
   ]
  },
  {
   "cell_type": "code",
   "execution_count": 95,
   "id": "acquired-survivor",
   "metadata": {},
   "outputs": [
    {
     "name": "stdout",
     "output_type": "stream",
     "text": [
      "              precision    recall  f1-score   support\n",
      "\n",
      "       남자(0)       0.91      0.99      0.95        90\n",
      "       여자(1)       0.98      0.83      0.90        53\n",
      "\n",
      "    accuracy                           0.93       143\n",
      "   macro avg       0.94      0.91      0.92       143\n",
      "weighted avg       0.93      0.93      0.93       143\n",
      "\n"
     ]
    }
   ],
   "source": [
    "from sklearn.metrics import classification_report\n",
    "target_names = ['남자(0)', '여자(1)']\n",
    "print(classification_report(y_test, y_pred, target_names=target_names))"
   ]
  },
  {
   "cell_type": "markdown",
   "id": "associate-albania",
   "metadata": {},
   "source": [
    "## 참고: 각 지표의 계산"
   ]
  },
  {
   "cell_type": "code",
   "execution_count": 96,
   "id": "lovely-crash",
   "metadata": {},
   "outputs": [],
   "source": [
    "cm = confusion_matrix(y_test, y_pred)"
   ]
  },
  {
   "cell_type": "code",
   "execution_count": 97,
   "id": "apart-dodge",
   "metadata": {},
   "outputs": [
    {
     "data": {
      "text/plain": [
       "0.9300699300699301"
      ]
     },
     "execution_count": 97,
     "metadata": {},
     "output_type": "execute_result"
    }
   ],
   "source": [
    "# accuracy\n",
    "(cm * np.eye(2)).sum() / cm.sum()"
   ]
  },
  {
   "cell_type": "code",
   "execution_count": 98,
   "id": "important-operator",
   "metadata": {},
   "outputs": [
    {
     "data": {
      "text/plain": [
       "array([0.90816327, 0.97777778])"
      ]
     },
     "execution_count": 98,
     "metadata": {},
     "output_type": "execute_result"
    }
   ],
   "source": [
    "# precision\n",
    "precision = (cm * np.eye(2)).sum(axis=0) / cm.sum(axis=0)\n",
    "precision"
   ]
  },
  {
   "cell_type": "code",
   "execution_count": 99,
   "id": "naval-table",
   "metadata": {},
   "outputs": [
    {
     "data": {
      "text/plain": [
       "array([0.98888889, 0.83018868])"
      ]
     },
     "execution_count": 99,
     "metadata": {},
     "output_type": "execute_result"
    }
   ],
   "source": [
    "# recall\n",
    "recall = (cm * np.eye(2)).sum(axis=1) / cm.sum(axis=1)\n",
    "recall"
   ]
  },
  {
   "cell_type": "code",
   "execution_count": 100,
   "id": "convertible-luxembourg",
   "metadata": {},
   "outputs": [
    {
     "data": {
      "text/plain": [
       "array([0.94680851, 0.89795918])"
      ]
     },
     "execution_count": 100,
     "metadata": {},
     "output_type": "execute_result"
    }
   ],
   "source": [
    "# f1-score (Harmonic mean)\n",
    "2 / (1 / precision + 1 / recall)"
   ]
  },
  {
   "cell_type": "code",
   "execution_count": 101,
   "id": "lonely-wales",
   "metadata": {},
   "outputs": [
    {
     "data": {
      "image/png": "[encoded data removed]",
      "text/plain": [
       "<Figure size 432x288 with 1 Axes>"
      ]
     },
     "metadata": {
      "needs_background": "light"
     },
     "output_type": "display_data"
    }
   ],
   "source": [
    "from sklearn.metrics import plot_roc_curve\n",
    "plot_roc_curve(clf, X_test, y_test)  \n",
    "plt.show()"
   ]
  },
  {
   "cell_type": "code",
   "execution_count": 102,
   "id": "sensitive-wonder",
   "metadata": {},
   "outputs": [
    {
     "data": {
      "text/plain": [
       "array([[3.76796579e-06, 9.99996232e-01],\n",
       "       [8.85468732e-01, 1.14531268e-01],\n",
       "       [8.63579569e-01, 1.36420431e-01],\n",
       "       [8.93773390e-01, 1.06226610e-01],\n",
       "       [7.90447446e-01, 2.09552554e-01],\n",
       "       [9.76891709e-01, 2.31082913e-02],\n",
       "       [9.81544705e-01, 1.84552947e-02],\n",
       "       [9.78905823e-01, 2.10941772e-02],\n",
       "       [9.68385682e-01, 3.16143178e-02],\n",
       "       [2.61464867e-01, 7.38535133e-01],\n",
       "       [5.48253432e-01, 4.51746568e-01],\n",
       "       [9.79497614e-01, 2.05023861e-02],\n",
       "       [9.63363208e-01, 3.66367919e-02],\n",
       "       [6.04348146e-01, 3.95651854e-01],\n",
       "       [9.25022243e-01, 7.49777566e-02],\n",
       "       [4.14099206e-03, 9.95859008e-01],\n",
       "       [8.52417862e-01, 1.47582138e-01],\n",
       "       [9.81598347e-01, 1.84016531e-02],\n",
       "       [9.52343979e-01, 4.76560211e-02],\n",
       "       [9.61387803e-01, 3.86121966e-02],\n",
       "       [2.92934659e-01, 7.07065341e-01],\n",
       "       [1.31688918e-01, 8.68311082e-01],\n",
       "       [6.44146423e-01, 3.55853577e-01],\n",
       "       [2.67583452e-06, 9.99997324e-01],\n",
       "       [8.56806184e-01, 1.43193816e-01],\n",
       "       [9.78291186e-01, 2.17088145e-02],\n",
       "       [1.69475992e-06, 9.99998305e-01],\n",
       "       [9.82582157e-01, 1.74178431e-02],\n",
       "       [1.43929779e-06, 9.99998561e-01],\n",
       "       [9.84286618e-01, 1.57133816e-02],\n",
       "       [4.01509818e-03, 9.95984902e-01],\n",
       "       [2.33283406e-02, 9.76671659e-01],\n",
       "       [1.33190877e-02, 9.86680912e-01],\n",
       "       [9.66161220e-01, 3.38387803e-02],\n",
       "       [9.55225351e-01, 4.47746492e-02],\n",
       "       [5.89482711e-07, 9.99999411e-01],\n",
       "       [9.47508307e-01, 5.24916933e-02],\n",
       "       [9.18754401e-01, 8.12455986e-02],\n",
       "       [9.80054681e-01, 1.99453191e-02],\n",
       "       [3.26858316e-06, 9.99996731e-01],\n",
       "       [9.10098551e-01, 8.99014493e-02],\n",
       "       [9.80633826e-01, 1.93661745e-02],\n",
       "       [9.75384426e-01, 2.46155737e-02],\n",
       "       [9.11768348e-01, 8.82316516e-02],\n",
       "       [5.91567196e-03, 9.94084328e-01],\n",
       "       [9.63278927e-01, 3.67210731e-02],\n",
       "       [4.41012780e-07, 9.99999559e-01],\n",
       "       [9.04314620e-01, 9.56853800e-02],\n",
       "       [9.85669394e-01, 1.43306063e-02],\n",
       "       [5.53406604e-03, 9.94465934e-01],\n",
       "       [9.84605941e-01, 1.53940587e-02],\n",
       "       [9.45706473e-01, 5.42935273e-02],\n",
       "       [7.89657317e-07, 9.99999210e-01],\n",
       "       [9.77728717e-01, 2.22712828e-02],\n",
       "       [7.57703687e-01, 2.42296313e-01],\n",
       "       [1.88312407e-02, 9.81168759e-01],\n",
       "       [9.81377043e-01, 1.86229566e-02],\n",
       "       [9.80679332e-01, 1.93206678e-02],\n",
       "       [9.79410503e-01, 2.05894966e-02],\n",
       "       [9.72230185e-01, 2.77698146e-02],\n",
       "       [6.62697738e-01, 3.37302262e-01],\n",
       "       [6.33913159e-03, 9.93660868e-01],\n",
       "       [7.65100764e-01, 2.34899236e-01],\n",
       "       [9.78539183e-01, 2.14608167e-02],\n",
       "       [9.70247316e-01, 2.97526838e-02],\n",
       "       [9.80520681e-01, 1.94793194e-02],\n",
       "       [9.40031628e-01, 5.99683725e-02],\n",
       "       [1.37183761e-05, 9.99986282e-01],\n",
       "       [4.71872235e-01, 5.28127765e-01],\n",
       "       [9.84715037e-01, 1.52849635e-02],\n",
       "       [2.78835345e-02, 9.72116465e-01],\n",
       "       [3.21025090e-03, 9.96789749e-01],\n",
       "       [9.57036977e-01, 4.29630227e-02],\n",
       "       [9.35877655e-01, 6.41223450e-02],\n",
       "       [9.78341550e-01, 2.16584497e-02],\n",
       "       [9.76402167e-01, 2.35978326e-02],\n",
       "       [1.38307482e-06, 9.99998617e-01],\n",
       "       [1.09505770e-02, 9.89049423e-01],\n",
       "       [9.38964479e-01, 6.10355211e-02],\n",
       "       [9.10537418e-01, 8.94625818e-02],\n",
       "       [9.56167526e-01, 4.38324737e-02],\n",
       "       [7.91390617e-01, 2.08609383e-01],\n",
       "       [9.84058119e-01, 1.59418813e-02],\n",
       "       [5.55350054e-01, 4.44649946e-01],\n",
       "       [9.77186010e-01, 2.28139895e-02],\n",
       "       [1.72048773e-06, 9.99998280e-01],\n",
       "       [6.31340073e-07, 9.99999369e-01],\n",
       "       [5.60759244e-01, 4.39240756e-01],\n",
       "       [9.75829548e-01, 2.41704519e-02],\n",
       "       [8.25738002e-01, 1.74261998e-01],\n",
       "       [9.70957023e-01, 2.90429771e-02],\n",
       "       [9.82990431e-01, 1.70095693e-02],\n",
       "       [9.77823137e-01, 2.21768634e-02],\n",
       "       [9.78087134e-01, 2.19128659e-02],\n",
       "       [9.80110376e-01, 1.98896237e-02],\n",
       "       [7.84946566e-01, 2.15053434e-01],\n",
       "       [9.51023086e-01, 4.89769140e-02],\n",
       "       [9.61135770e-01, 3.88642301e-02],\n",
       "       [9.63303744e-01, 3.66962560e-02],\n",
       "       [9.82138238e-01, 1.78617616e-02],\n",
       "       [4.59406221e-01, 5.40593779e-01],\n",
       "       [7.27454076e-03, 9.92725459e-01],\n",
       "       [8.71665397e-01, 1.28334603e-01],\n",
       "       [1.50604632e-05, 9.99984940e-01],\n",
       "       [9.34652244e-02, 9.06534776e-01],\n",
       "       [7.92361958e-02, 9.20763804e-01],\n",
       "       [9.84208635e-01, 1.57913648e-02],\n",
       "       [9.79563185e-01, 2.04368151e-02],\n",
       "       [1.00727128e-02, 9.89927287e-01],\n",
       "       [4.42450888e-07, 9.99999558e-01],\n",
       "       [6.98974103e-03, 9.93010259e-01],\n",
       "       [9.51997293e-01, 4.80027066e-02],\n",
       "       [1.54489622e-06, 9.99998455e-01],\n",
       "       [9.79697377e-01, 2.03026227e-02],\n",
       "       [9.55333116e-01, 4.46668841e-02],\n",
       "       [5.47424983e-02, 9.45257502e-01],\n",
       "       [5.86234407e-01, 4.13765593e-01],\n",
       "       [8.35045674e-07, 9.99999165e-01],\n",
       "       [7.19327458e-01, 2.80672542e-01],\n",
       "       [1.71306732e-06, 9.99998287e-01],\n",
       "       [1.49880856e-01, 8.50119144e-01],\n",
       "       [9.39183837e-01, 6.08161629e-02],\n",
       "       [2.41069095e-07, 9.99999759e-01],\n",
       "       [2.40101697e-06, 9.99997599e-01],\n",
       "       [9.80736722e-01, 1.92632777e-02],\n",
       "       [8.45259002e-01, 1.54740998e-01],\n",
       "       [9.72971650e-01, 2.70283501e-02],\n",
       "       [9.77669496e-01, 2.23305042e-02],\n",
       "       [5.37296188e-06, 9.99994627e-01],\n",
       "       [9.77318997e-01, 2.26810030e-02],\n",
       "       [8.28537649e-01, 1.71462351e-01],\n",
       "       [8.10570934e-01, 1.89429066e-01],\n",
       "       [1.43045256e-06, 9.99998570e-01],\n",
       "       [1.76110083e-05, 9.99982389e-01],\n",
       "       [6.77603217e-07, 9.99999322e-01],\n",
       "       [9.24777981e-01, 7.52220192e-02],\n",
       "       [9.64350341e-01, 3.56496595e-02],\n",
       "       [1.12338104e-02, 9.88766190e-01],\n",
       "       [5.50882366e-01, 4.49117634e-01],\n",
       "       [9.12449927e-01, 8.75500730e-02],\n",
       "       [9.73782218e-01, 2.62177819e-02],\n",
       "       [4.81971095e-01, 5.18028905e-01],\n",
       "       [7.92988890e-01, 2.07011110e-01]])"
      ]
     },
     "execution_count": 102,
     "metadata": {},
     "output_type": "execute_result"
    }
   ],
   "source": [
    "# 0일 확률, 1일 확률\n",
    "y_probas = clf.predict_proba(X_test)\n",
    "y_probas"
   ]
  },
  {
   "cell_type": "code",
   "execution_count": 103,
   "id": "narrative-lawyer",
   "metadata": {},
   "outputs": [
    {
     "data": {
      "text/plain": [
       "array([0.        , 0.01010101, 0.02020202, 0.03030303, 0.04040404,\n",
       "       0.05050505, 0.06060606, 0.07070707, 0.08080808, 0.09090909,\n",
       "       0.1010101 , 0.11111111, 0.12121212, 0.13131313, 0.14141414,\n",
       "       0.15151515, 0.16161616, 0.17171717, 0.18181818, 0.19191919,\n",
       "       0.2020202 , 0.21212121, 0.22222222, 0.23232323, 0.24242424,\n",
       "       0.25252525, 0.26262626, 0.27272727, 0.28282828, 0.29292929,\n",
       "       0.3030303 , 0.31313131, 0.32323232, 0.33333333, 0.34343434,\n",
       "       0.35353535, 0.36363636, 0.37373737, 0.38383838, 0.39393939,\n",
       "       0.4040404 , 0.41414141, 0.42424242, 0.43434343, 0.44444444,\n",
       "       0.45454545, 0.46464646, 0.47474747, 0.48484848, 0.49494949,\n",
       "       0.50505051, 0.51515152, 0.52525253, 0.53535354, 0.54545455,\n",
       "       0.55555556, 0.56565657, 0.57575758, 0.58585859, 0.5959596 ,\n",
       "       0.60606061, 0.61616162, 0.62626263, 0.63636364, 0.64646465,\n",
       "       0.65656566, 0.66666667, 0.67676768, 0.68686869, 0.6969697 ,\n",
       "       0.70707071, 0.71717172, 0.72727273, 0.73737374, 0.74747475,\n",
       "       0.75757576, 0.76767677, 0.77777778, 0.78787879, 0.7979798 ,\n",
       "       0.80808081, 0.81818182, 0.82828283, 0.83838384, 0.84848485,\n",
       "       0.85858586, 0.86868687, 0.87878788, 0.88888889, 0.8989899 ,\n",
       "       0.90909091, 0.91919192, 0.92929293, 0.93939394, 0.94949495,\n",
       "       0.95959596, 0.96969697, 0.97979798, 0.98989899, 1.        ])"
      ]
     },
     "execution_count": 103,
     "metadata": {},
     "output_type": "execute_result"
    }
   ],
   "source": [
    "n = 100\n",
    "th = np.linspace(0,1,n)\n",
    "th"
   ]
  },
  {
   "cell_type": "code",
   "execution_count": 104,
   "id": "characteristic-developer",
   "metadata": {},
   "outputs": [],
   "source": [
    "y_pred = y_probas[:,1].reshape(-1,1) > th.reshape(1,-1)"
   ]
  },
  {
   "cell_type": "code",
   "execution_count": 105,
   "id": "current-support",
   "metadata": {
    "scrolled": true
   },
   "outputs": [
    {
     "data": {
      "text/plain": [
       "array([[ 0, 90],\n",
       "       [ 0, 53]], dtype=int64)"
      ]
     },
     "execution_count": 105,
     "metadata": {},
     "output_type": "execute_result"
    }
   ],
   "source": [
    "confusion_matrix(y_test, y_pred[:,0])"
   ]
  },
  {
   "cell_type": "code",
   "execution_count": 106,
   "id": "encouraging-catalyst",
   "metadata": {
    "scrolled": true
   },
   "outputs": [
    {
     "name": "stdout",
     "output_type": "stream",
     "text": [
      "[[90  0]\n",
      " [53  0]]\n"
     ]
    },
    {
     "data": {
      "text/plain": [
       "(1.0, 1.0)"
      ]
     },
     "execution_count": 106,
     "metadata": {},
     "output_type": "execute_result"
    }
   ],
   "source": [
    "cm = confusion_matrix(y_test, y_pred[:,99])\n",
    "print(cm)\n",
    "cm[0,0]/cm.sum(axis=1)[0], cm[1,0]/cm.sum(axis=1)[1]"
   ]
  },
  {
   "cell_type": "code",
   "execution_count": 107,
   "id": "small-think",
   "metadata": {},
   "outputs": [],
   "source": [
    "tpr = []\n",
    "fpr = []\n",
    "for i in range(n):\n",
    "    cm = confusion_matrix(y_test, y_pred[:,i])\n",
    "    tpr.append(cm[0,0]/cm.sum(axis=1)[0])\n",
    "    fpr.append(cm[1,0]/cm.sum(axis=1)[1])"
   ]
  },
  {
   "cell_type": "code",
   "execution_count": 108,
   "id": "neural-allah",
   "metadata": {},
   "outputs": [
    {
     "data": {
      "text/plain": [
       "<matplotlib.collections.PathCollection at 0x2431b5a0c70>"
      ]
     },
     "execution_count": 108,
     "metadata": {},
     "output_type": "execute_result"
    },
    {
     "data": {
      "image/png": "[encoded data removed]",
      "text/plain": [
       "<Figure size 432x288 with 1 Axes>"
      ]
     },
     "metadata": {
      "needs_background": "light"
     },
     "output_type": "display_data"
    }
   ],
   "source": [
    "plt.scatter(fpr, tpr)"
   ]
  },
  {
   "cell_type": "code",
   "execution_count": 109,
   "id": "active-crown",
   "metadata": {},
   "outputs": [
    {
     "data": {
      "text/plain": [
       "0.9230769230769231"
      ]
     },
     "execution_count": 109,
     "metadata": {},
     "output_type": "execute_result"
    }
   ],
   "source": [
    "((clf.predict_proba(X_test)[:,1] >= 0.5) == y_test).mean()"
   ]
  },
  {
   "cell_type": "markdown",
   "id": "comfortable-territory",
   "metadata": {},
   "source": [
    "### roc_auc_score \n",
    "#### roc 아래의 면적 / 넓으면(1에 가까우면) 좋음"
   ]
  },
  {
   "cell_type": "code",
   "execution_count": 110,
   "id": "destroyed-regression",
   "metadata": {},
   "outputs": [
    {
     "data": {
      "text/plain": [
       "0.9775681341719078"
      ]
     },
     "execution_count": 110,
     "metadata": {},
     "output_type": "execute_result"
    }
   ],
   "source": [
    "from sklearn.metrics import roc_auc_score\n",
    "y_score = clf.predict_proba(X_test)[:, 1]\n",
    "\n",
    "roc_auc_score(y_test, y_score)"
   ]
  },
  {
   "cell_type": "markdown",
   "id": "blind-newspaper",
   "metadata": {},
   "source": [
    "### average_precision_score"
   ]
  },
  {
   "cell_type": "code",
   "execution_count": 111,
   "id": "touched-webmaster",
   "metadata": {
    "scrolled": true
   },
   "outputs": [
    {
     "name": "stdout",
     "output_type": "stream",
     "text": [
      "Average precision-recall score: 0.97\n"
     ]
    }
   ],
   "source": [
    "from sklearn.metrics import average_precision_score\n",
    "average_precision = average_precision_score(y_test, y_score)\n",
    "print(f'Average precision-recall score: {average_precision:0.2f}')"
   ]
  },
  {
   "cell_type": "markdown",
   "id": "cleared-clarity",
   "metadata": {},
   "source": [
    "### precision_recall_curve\n",
    "#### th 변화에 따른 두 값의 변화"
   ]
  },
  {
   "cell_type": "code",
   "execution_count": 112,
   "id": "other-specific",
   "metadata": {},
   "outputs": [
    {
     "data": {
      "text/plain": [
       "Text(0.5, 1.0, '2-class Precision-Recall curve: AP=0.97')"
      ]
     },
     "execution_count": 112,
     "metadata": {},
     "output_type": "execute_result"
    },
    {
     "data": {
      "image/png": "[encoded data removed]",
      "text/plain": [
       "<Figure size 432x288 with 1 Axes>"
      ]
     },
     "metadata": {
      "needs_background": "light"
     },
     "output_type": "display_data"
    }
   ],
   "source": [
    "from sklearn.metrics import plot_precision_recall_curve\n",
    "\n",
    "disp = plot_precision_recall_curve(clf, X_test, y_test)\n",
    "disp.ax_.set_title(f'2-class Precision-Recall curve: AP={average_precision:0.2f}')"
   ]
  },
  {
   "cell_type": "markdown",
   "id": "detailed-pledge",
   "metadata": {},
   "source": [
    "### brier_score_loss\n",
    "#### mean square error 값과 동일"
   ]
  },
  {
   "cell_type": "code",
   "execution_count": 113,
   "id": "forty-tournament",
   "metadata": {},
   "outputs": [
    {
     "data": {
      "text/plain": [
       "0.053935561184357717"
      ]
     },
     "execution_count": 113,
     "metadata": {},
     "output_type": "execute_result"
    }
   ],
   "source": [
    "from sklearn.metrics import brier_score_loss\n",
    "brier_score_loss(y_test, y_score)"
   ]
  },
  {
   "cell_type": "code",
   "execution_count": 114,
   "id": "tested-analysis",
   "metadata": {},
   "outputs": [],
   "source": [
    "y_probas = clf.predict_proba(X_test)"
   ]
  },
  {
   "cell_type": "markdown",
   "id": "irish-document",
   "metadata": {},
   "source": [
    "### scikitplot - plot_roc\n",
    "#### 좀더 자세하게 그려줌\n",
    "- sklearn.metrics.plot_roc_curve"
   ]
  },
  {
   "cell_type": "code",
   "execution_count": 115,
   "id": "documented-sharp",
   "metadata": {
    "scrolled": false
   },
   "outputs": [
    {
     "data": {
      "text/plain": [
       "<AxesSubplot:title={'center':'ROC Curves'}, xlabel='False Positive Rate', ylabel='True Positive Rate'>"
      ]
     },
     "execution_count": 115,
     "metadata": {},
     "output_type": "execute_result"
    },
    {
     "data": {
      "image/png": "[encoded data removed]",
      "text/plain": [
       "<Figure size 432x288 with 1 Axes>"
      ]
     },
     "metadata": {
      "needs_background": "light"
     },
     "output_type": "display_data"
    }
   ],
   "source": [
    "import scikitplot as skplt \n",
    "skplt.metrics.plot_roc(y_test, y_probas)"
   ]
  },
  {
   "cell_type": "markdown",
   "id": "blocked-relationship",
   "metadata": {},
   "source": [
    "- sklearn.metrics.plot_precision_recall_curve"
   ]
  },
  {
   "cell_type": "code",
   "execution_count": 116,
   "id": "regulated-douglas",
   "metadata": {
    "scrolled": true
   },
   "outputs": [
    {
     "data": {
      "text/plain": [
       "<AxesSubplot:title={'center':'Precision-Recall Curve'}, xlabel='Recall', ylabel='Precision'>"
      ]
     },
     "execution_count": 116,
     "metadata": {},
     "output_type": "execute_result"
    },
    {
     "data": {
      "image/png": "[encoded data removed]",
      "text/plain": [
       "<Figure size 432x288 with 1 Axes>"
      ]
     },
     "metadata": {
      "needs_background": "light"
     },
     "output_type": "display_data"
    }
   ],
   "source": [
    "skplt.metrics.plot_precision_recall(y_test, y_probas)"
   ]
  },
  {
   "cell_type": "markdown",
   "id": "fabulous-employee",
   "metadata": {},
   "source": [
    "### plot_lift_curve / plot_cumulative_gain\n",
    "- lift: the ratio between the results obtained with and without the predictive model\n",
    "- cumulative_gain: percentage of the overall number of cases in a given category \"gained\" by targeting a percentage of the total number of cases"
   ]
  },
  {
   "cell_type": "code",
   "execution_count": 117,
   "id": "nearby-commissioner",
   "metadata": {},
   "outputs": [
    {
     "data": {
      "image/png": "[encoded data removed]",
      "text/plain": [
       "<Figure size 432x288 with 1 Axes>"
      ]
     },
     "metadata": {
      "needs_background": "light"
     },
     "output_type": "display_data"
    },
    {
     "data": {
      "text/plain": [
       "<AxesSubplot:title={'center':'Cumulative Gains Curve'}, xlabel='Percentage of sample', ylabel='Gain'>"
      ]
     },
     "execution_count": 117,
     "metadata": {},
     "output_type": "execute_result"
    },
    {
     "data": {
      "image/png": "[encoded data removed]",
      "text/plain": [
       "<Figure size 432x288 with 1 Axes>"
      ]
     },
     "metadata": {
      "needs_background": "light"
     },
     "output_type": "display_data"
    }
   ],
   "source": [
    "skplt.metrics.plot_lift_curve(y_test, y_probas); plt.show()\n",
    "skplt.metrics.plot_cumulative_gain(y_test, y_probas)"
   ]
  },
  {
   "cell_type": "markdown",
   "id": "scheduled-alert",
   "metadata": {},
   "source": [
    "### log_loss\n",
    "- Log Loss is the negative average of the log of corrected predicted probabilities for each instance\n",
    "- 예측된 확률과 실제값의 차이의 log 값은 1에 가까울 수록 0에 근접"
   ]
  },
  {
   "cell_type": "code",
   "execution_count": 118,
   "id": "fitting-journalist",
   "metadata": {},
   "outputs": [
    {
     "data": {
      "text/plain": [
       "0.17809166281948544"
      ]
     },
     "execution_count": 118,
     "metadata": {},
     "output_type": "execute_result"
    }
   ],
   "source": [
    "from sklearn.metrics import log_loss\n",
    "log_loss(y_test, y_probas)"
   ]
  },
  {
   "cell_type": "markdown",
   "id": "engaging-ukraine",
   "metadata": {},
   "source": [
    "### matthews_corrcoef\n",
    "<img src=\"https://wikimedia.org/api/rest_v1/media/math/render/svg/33f3d62224f97cdef8bc559ee455c3f4815f5788\">\n",
    "\n",
    "- MCC is defined identically to Pearson's phi coefficient\n",
    "- unbalanced 상황에서 잘 맞음"
   ]
  },
  {
   "cell_type": "code",
   "execution_count": 125,
   "id": "opposed-mauritius",
   "metadata": {
    "scrolled": false
   },
   "outputs": [
    {
     "data": {
      "text/plain": [
       "0.8518535291230603"
      ]
     },
     "execution_count": 125,
     "metadata": {},
     "output_type": "execute_result"
    }
   ],
   "source": [
    "from sklearn.metrics import matthews_corrcoef\n",
    "y_pred = clf.predict(X_test)\n",
    "matthews_corrcoef(y_test, y_pred)"
   ]
  },
  {
   "cell_type": "markdown",
   "id": "limiting-ground",
   "metadata": {},
   "source": [
    "### cohen_kappa_score\n",
    "- Cohen's kappa measures the agreement between two raters\n",
    "<img src=\"https://wikimedia.org/api/rest_v1/media/math/render/svg/1a7a8f738ea187a60443bac93cd53b4d9d6b2231\">"
   ]
  },
  {
   "cell_type": "code",
   "execution_count": 121,
   "id": "responsible-orbit",
   "metadata": {},
   "outputs": [
    {
     "data": {
      "text/plain": [
       "0.8453050627434011"
      ]
     },
     "execution_count": 121,
     "metadata": {},
     "output_type": "execute_result"
    }
   ],
   "source": [
    "from sklearn.metrics import cohen_kappa_score\n",
    "cohen_kappa_score(y_test, y_pred)"
   ]
  },
  {
   "cell_type": "code",
   "execution_count": null,
   "id": "utility-roman",
   "metadata": {},
   "outputs": [],
   "source": []
  },
  {
   "cell_type": "markdown",
   "id": "sensitive-palestinian",
   "metadata": {},
   "source": [
    "### 실습 breast_cancer"
   ]
  },
  {
   "cell_type": "code",
   "execution_count": 44,
   "id": "990a43a4",
   "metadata": {},
   "outputs": [
    {
     "data": {
      "text/html": [
       "<div>\n",
       "<style scoped>\n",
       "    .dataframe tbody tr th:only-of-type {\n",
       "        vertical-align: middle;\n",
       "    }\n",
       "\n",
       "    .dataframe tbody tr th {\n",
       "        vertical-align: top;\n",
       "    }\n",
       "\n",
       "    .dataframe thead th {\n",
       "        text-align: right;\n",
       "    }\n",
       "</style>\n",
       "<table border=\"1\" class=\"dataframe\">\n",
       "  <thead>\n",
       "    <tr style=\"text-align: right;\">\n",
       "      <th></th>\n",
       "      <th>target</th>\n",
       "      <th>mean radius</th>\n",
       "      <th>mean texture</th>\n",
       "      <th>mean perimeter</th>\n",
       "      <th>mean area</th>\n",
       "      <th>mean smoothness</th>\n",
       "      <th>mean compactness</th>\n",
       "      <th>mean concavity</th>\n",
       "      <th>mean concave points</th>\n",
       "      <th>mean symmetry</th>\n",
       "      <th>...</th>\n",
       "      <th>worst radius</th>\n",
       "      <th>worst texture</th>\n",
       "      <th>worst perimeter</th>\n",
       "      <th>worst area</th>\n",
       "      <th>worst smoothness</th>\n",
       "      <th>worst compactness</th>\n",
       "      <th>worst concavity</th>\n",
       "      <th>worst concave points</th>\n",
       "      <th>worst symmetry</th>\n",
       "      <th>worst fractal dimension</th>\n",
       "    </tr>\n",
       "  </thead>\n",
       "  <tbody>\n",
       "    <tr>\n",
       "      <th>0</th>\n",
       "      <td>1</td>\n",
       "      <td>17.99</td>\n",
       "      <td>10.38</td>\n",
       "      <td>122.80</td>\n",
       "      <td>1001.0</td>\n",
       "      <td>0.11840</td>\n",
       "      <td>0.27760</td>\n",
       "      <td>0.30010</td>\n",
       "      <td>0.14710</td>\n",
       "      <td>0.2419</td>\n",
       "      <td>...</td>\n",
       "      <td>25.380</td>\n",
       "      <td>17.33</td>\n",
       "      <td>184.60</td>\n",
       "      <td>2019.0</td>\n",
       "      <td>0.16220</td>\n",
       "      <td>0.66560</td>\n",
       "      <td>0.7119</td>\n",
       "      <td>0.2654</td>\n",
       "      <td>0.4601</td>\n",
       "      <td>0.11890</td>\n",
       "    </tr>\n",
       "    <tr>\n",
       "      <th>1</th>\n",
       "      <td>1</td>\n",
       "      <td>20.57</td>\n",
       "      <td>17.77</td>\n",
       "      <td>132.90</td>\n",
       "      <td>1326.0</td>\n",
       "      <td>0.08474</td>\n",
       "      <td>0.07864</td>\n",
       "      <td>0.08690</td>\n",
       "      <td>0.07017</td>\n",
       "      <td>0.1812</td>\n",
       "      <td>...</td>\n",
       "      <td>24.990</td>\n",
       "      <td>23.41</td>\n",
       "      <td>158.80</td>\n",
       "      <td>1956.0</td>\n",
       "      <td>0.12380</td>\n",
       "      <td>0.18660</td>\n",
       "      <td>0.2416</td>\n",
       "      <td>0.1860</td>\n",
       "      <td>0.2750</td>\n",
       "      <td>0.08902</td>\n",
       "    </tr>\n",
       "    <tr>\n",
       "      <th>2</th>\n",
       "      <td>1</td>\n",
       "      <td>19.69</td>\n",
       "      <td>21.25</td>\n",
       "      <td>130.00</td>\n",
       "      <td>1203.0</td>\n",
       "      <td>0.10960</td>\n",
       "      <td>0.15990</td>\n",
       "      <td>0.19740</td>\n",
       "      <td>0.12790</td>\n",
       "      <td>0.2069</td>\n",
       "      <td>...</td>\n",
       "      <td>23.570</td>\n",
       "      <td>25.53</td>\n",
       "      <td>152.50</td>\n",
       "      <td>1709.0</td>\n",
       "      <td>0.14440</td>\n",
       "      <td>0.42450</td>\n",
       "      <td>0.4504</td>\n",
       "      <td>0.2430</td>\n",
       "      <td>0.3613</td>\n",
       "      <td>0.08758</td>\n",
       "    </tr>\n",
       "    <tr>\n",
       "      <th>3</th>\n",
       "      <td>1</td>\n",
       "      <td>11.42</td>\n",
       "      <td>20.38</td>\n",
       "      <td>77.58</td>\n",
       "      <td>386.1</td>\n",
       "      <td>0.14250</td>\n",
       "      <td>0.28390</td>\n",
       "      <td>0.24140</td>\n",
       "      <td>0.10520</td>\n",
       "      <td>0.2597</td>\n",
       "      <td>...</td>\n",
       "      <td>14.910</td>\n",
       "      <td>26.50</td>\n",
       "      <td>98.87</td>\n",
       "      <td>567.7</td>\n",
       "      <td>0.20980</td>\n",
       "      <td>0.86630</td>\n",
       "      <td>0.6869</td>\n",
       "      <td>0.2575</td>\n",
       "      <td>0.6638</td>\n",
       "      <td>0.17300</td>\n",
       "    </tr>\n",
       "    <tr>\n",
       "      <th>4</th>\n",
       "      <td>1</td>\n",
       "      <td>20.29</td>\n",
       "      <td>14.34</td>\n",
       "      <td>135.10</td>\n",
       "      <td>1297.0</td>\n",
       "      <td>0.10030</td>\n",
       "      <td>0.13280</td>\n",
       "      <td>0.19800</td>\n",
       "      <td>0.10430</td>\n",
       "      <td>0.1809</td>\n",
       "      <td>...</td>\n",
       "      <td>22.540</td>\n",
       "      <td>16.67</td>\n",
       "      <td>152.20</td>\n",
       "      <td>1575.0</td>\n",
       "      <td>0.13740</td>\n",
       "      <td>0.20500</td>\n",
       "      <td>0.4000</td>\n",
       "      <td>0.1625</td>\n",
       "      <td>0.2364</td>\n",
       "      <td>0.07678</td>\n",
       "    </tr>\n",
       "    <tr>\n",
       "      <th>...</th>\n",
       "      <td>...</td>\n",
       "      <td>...</td>\n",
       "      <td>...</td>\n",
       "      <td>...</td>\n",
       "      <td>...</td>\n",
       "      <td>...</td>\n",
       "      <td>...</td>\n",
       "      <td>...</td>\n",
       "      <td>...</td>\n",
       "      <td>...</td>\n",
       "      <td>...</td>\n",
       "      <td>...</td>\n",
       "      <td>...</td>\n",
       "      <td>...</td>\n",
       "      <td>...</td>\n",
       "      <td>...</td>\n",
       "      <td>...</td>\n",
       "      <td>...</td>\n",
       "      <td>...</td>\n",
       "      <td>...</td>\n",
       "      <td>...</td>\n",
       "    </tr>\n",
       "    <tr>\n",
       "      <th>564</th>\n",
       "      <td>1</td>\n",
       "      <td>21.56</td>\n",
       "      <td>22.39</td>\n",
       "      <td>142.00</td>\n",
       "      <td>1479.0</td>\n",
       "      <td>0.11100</td>\n",
       "      <td>0.11590</td>\n",
       "      <td>0.24390</td>\n",
       "      <td>0.13890</td>\n",
       "      <td>0.1726</td>\n",
       "      <td>...</td>\n",
       "      <td>25.450</td>\n",
       "      <td>26.40</td>\n",
       "      <td>166.10</td>\n",
       "      <td>2027.0</td>\n",
       "      <td>0.14100</td>\n",
       "      <td>0.21130</td>\n",
       "      <td>0.4107</td>\n",
       "      <td>0.2216</td>\n",
       "      <td>0.2060</td>\n",
       "      <td>0.07115</td>\n",
       "    </tr>\n",
       "    <tr>\n",
       "      <th>565</th>\n",
       "      <td>1</td>\n",
       "      <td>20.13</td>\n",
       "      <td>28.25</td>\n",
       "      <td>131.20</td>\n",
       "      <td>1261.0</td>\n",
       "      <td>0.09780</td>\n",
       "      <td>0.10340</td>\n",
       "      <td>0.14400</td>\n",
       "      <td>0.09791</td>\n",
       "      <td>0.1752</td>\n",
       "      <td>...</td>\n",
       "      <td>23.690</td>\n",
       "      <td>38.25</td>\n",
       "      <td>155.00</td>\n",
       "      <td>1731.0</td>\n",
       "      <td>0.11660</td>\n",
       "      <td>0.19220</td>\n",
       "      <td>0.3215</td>\n",
       "      <td>0.1628</td>\n",
       "      <td>0.2572</td>\n",
       "      <td>0.06637</td>\n",
       "    </tr>\n",
       "    <tr>\n",
       "      <th>566</th>\n",
       "      <td>1</td>\n",
       "      <td>16.60</td>\n",
       "      <td>28.08</td>\n",
       "      <td>108.30</td>\n",
       "      <td>858.1</td>\n",
       "      <td>0.08455</td>\n",
       "      <td>0.10230</td>\n",
       "      <td>0.09251</td>\n",
       "      <td>0.05302</td>\n",
       "      <td>0.1590</td>\n",
       "      <td>...</td>\n",
       "      <td>18.980</td>\n",
       "      <td>34.12</td>\n",
       "      <td>126.70</td>\n",
       "      <td>1124.0</td>\n",
       "      <td>0.11390</td>\n",
       "      <td>0.30940</td>\n",
       "      <td>0.3403</td>\n",
       "      <td>0.1418</td>\n",
       "      <td>0.2218</td>\n",
       "      <td>0.07820</td>\n",
       "    </tr>\n",
       "    <tr>\n",
       "      <th>567</th>\n",
       "      <td>1</td>\n",
       "      <td>20.60</td>\n",
       "      <td>29.33</td>\n",
       "      <td>140.10</td>\n",
       "      <td>1265.0</td>\n",
       "      <td>0.11780</td>\n",
       "      <td>0.27700</td>\n",
       "      <td>0.35140</td>\n",
       "      <td>0.15200</td>\n",
       "      <td>0.2397</td>\n",
       "      <td>...</td>\n",
       "      <td>25.740</td>\n",
       "      <td>39.42</td>\n",
       "      <td>184.60</td>\n",
       "      <td>1821.0</td>\n",
       "      <td>0.16500</td>\n",
       "      <td>0.86810</td>\n",
       "      <td>0.9387</td>\n",
       "      <td>0.2650</td>\n",
       "      <td>0.4087</td>\n",
       "      <td>0.12400</td>\n",
       "    </tr>\n",
       "    <tr>\n",
       "      <th>568</th>\n",
       "      <td>0</td>\n",
       "      <td>7.76</td>\n",
       "      <td>24.54</td>\n",
       "      <td>47.92</td>\n",
       "      <td>181.0</td>\n",
       "      <td>0.05263</td>\n",
       "      <td>0.04362</td>\n",
       "      <td>0.00000</td>\n",
       "      <td>0.00000</td>\n",
       "      <td>0.1587</td>\n",
       "      <td>...</td>\n",
       "      <td>9.456</td>\n",
       "      <td>30.37</td>\n",
       "      <td>59.16</td>\n",
       "      <td>268.6</td>\n",
       "      <td>0.08996</td>\n",
       "      <td>0.06444</td>\n",
       "      <td>0.0000</td>\n",
       "      <td>0.0000</td>\n",
       "      <td>0.2871</td>\n",
       "      <td>0.07039</td>\n",
       "    </tr>\n",
       "  </tbody>\n",
       "</table>\n",
       "<p>569 rows × 31 columns</p>\n",
       "</div>"
      ],
      "text/plain": [
       "     target  mean radius  mean texture  mean perimeter  mean area  \\\n",
       "0         1        17.99         10.38          122.80     1001.0   \n",
       "1         1        20.57         17.77          132.90     1326.0   \n",
       "2         1        19.69         21.25          130.00     1203.0   \n",
       "3         1        11.42         20.38           77.58      386.1   \n",
       "4         1        20.29         14.34          135.10     1297.0   \n",
       "..      ...          ...           ...             ...        ...   \n",
       "564       1        21.56         22.39          142.00     1479.0   \n",
       "565       1        20.13         28.25          131.20     1261.0   \n",
       "566       1        16.60         28.08          108.30      858.1   \n",
       "567       1        20.60         29.33          140.10     1265.0   \n",
       "568       0         7.76         24.54           47.92      181.0   \n",
       "\n",
       "     mean smoothness  mean compactness  mean concavity  mean concave points  \\\n",
       "0            0.11840           0.27760         0.30010              0.14710   \n",
       "1            0.08474           0.07864         0.08690              0.07017   \n",
       "2            0.10960           0.15990         0.19740              0.12790   \n",
       "3            0.14250           0.28390         0.24140              0.10520   \n",
       "4            0.10030           0.13280         0.19800              0.10430   \n",
       "..               ...               ...             ...                  ...   \n",
       "564          0.11100           0.11590         0.24390              0.13890   \n",
       "565          0.09780           0.10340         0.14400              0.09791   \n",
       "566          0.08455           0.10230         0.09251              0.05302   \n",
       "567          0.11780           0.27700         0.35140              0.15200   \n",
       "568          0.05263           0.04362         0.00000              0.00000   \n",
       "\n",
       "     mean symmetry  ...  worst radius  worst texture  worst perimeter  \\\n",
       "0           0.2419  ...        25.380          17.33           184.60   \n",
       "1           0.1812  ...        24.990          23.41           158.80   \n",
       "2           0.2069  ...        23.570          25.53           152.50   \n",
       "3           0.2597  ...        14.910          26.50            98.87   \n",
       "4           0.1809  ...        22.540          16.67           152.20   \n",
       "..             ...  ...           ...            ...              ...   \n",
       "564         0.1726  ...        25.450          26.40           166.10   \n",
       "565         0.1752  ...        23.690          38.25           155.00   \n",
       "566         0.1590  ...        18.980          34.12           126.70   \n",
       "567         0.2397  ...        25.740          39.42           184.60   \n",
       "568         0.1587  ...         9.456          30.37            59.16   \n",
       "\n",
       "     worst area  worst smoothness  worst compactness  worst concavity  \\\n",
       "0        2019.0           0.16220            0.66560           0.7119   \n",
       "1        1956.0           0.12380            0.18660           0.2416   \n",
       "2        1709.0           0.14440            0.42450           0.4504   \n",
       "3         567.7           0.20980            0.86630           0.6869   \n",
       "4        1575.0           0.13740            0.20500           0.4000   \n",
       "..          ...               ...                ...              ...   \n",
       "564      2027.0           0.14100            0.21130           0.4107   \n",
       "565      1731.0           0.11660            0.19220           0.3215   \n",
       "566      1124.0           0.11390            0.30940           0.3403   \n",
       "567      1821.0           0.16500            0.86810           0.9387   \n",
       "568       268.6           0.08996            0.06444           0.0000   \n",
       "\n",
       "     worst concave points  worst symmetry  worst fractal dimension  \n",
       "0                  0.2654          0.4601                  0.11890  \n",
       "1                  0.1860          0.2750                  0.08902  \n",
       "2                  0.2430          0.3613                  0.08758  \n",
       "3                  0.2575          0.6638                  0.17300  \n",
       "4                  0.1625          0.2364                  0.07678  \n",
       "..                    ...             ...                      ...  \n",
       "564                0.2216          0.2060                  0.07115  \n",
       "565                0.1628          0.2572                  0.06637  \n",
       "566                0.1418          0.2218                  0.07820  \n",
       "567                0.2650          0.4087                  0.12400  \n",
       "568                0.0000          0.2871                  0.07039  \n",
       "\n",
       "[569 rows x 31 columns]"
      ]
     },
     "execution_count": 44,
     "metadata": {},
     "output_type": "execute_result"
    }
   ],
   "source": [
    "# Import the dataset Wisconsin breast cancer dataset from skelarn.\n",
    "from sklearn.datasets import load_breast_cancer\n",
    "cancer = load_breast_cancer()\n",
    "cancer.keys()\n",
    "\n",
    "# Create a DataFrame.\n",
    "cancer = pd.DataFrame(np.c_[cancer['target'], cancer['data']], \n",
    "                      columns = np.append('target', cancer['feature_names']))\n",
    "\n",
    "# Assign the label 0 to benign samples and 1 to malignant samples\n",
    "# change the datatype of target from float to integer.\n",
    "cancer['target'] = cancer['target'].map({0.0: 1, 1.0:0}).astype('int64')\n",
    "# Check the structure of the dataset\n",
    "cancer"
   ]
  },
  {
   "cell_type": "code",
   "execution_count": 45,
   "id": "f057555f",
   "metadata": {},
   "outputs": [
    {
     "data": {
      "text/plain": [
       "0    0.627417\n",
       "1    0.372583\n",
       "Name: target, dtype: float64"
      ]
     },
     "execution_count": 45,
     "metadata": {},
     "output_type": "execute_result"
    }
   ],
   "source": [
    "cancer['target'].value_counts(normalize=True)"
   ]
  },
  {
   "cell_type": "code",
   "execution_count": 68,
   "id": "8388b08f",
   "metadata": {},
   "outputs": [],
   "source": [
    "# Separate the independent variables from the dependent variable.\n",
    "X = cancer.drop('target', axis = 1)\n",
    "y = cancer['target']\n",
    "# Divide the dataset into train (80%) and test (20%).\n",
    "from sklearn.model_selection import train_test_split\n",
    "X_train, X_test, y_train, y_test = train_test_split(X, y, test_size = 0.2, random_state = 0)"
   ]
  },
  {
   "cell_type": "code",
   "execution_count": 69,
   "id": "e9fa36fb",
   "metadata": {},
   "outputs": [
    {
     "data": {
      "image/png": "[encoded data removed]",
      "text/plain": [
       "<Figure size 432x288 with 2 Axes>"
      ]
     },
     "metadata": {
      "needs_background": "light"
     },
     "output_type": "display_data"
    }
   ],
   "source": [
    "from sklearn.svm import SVC\n",
    "clf = SVC(random_state=0, probability = True)\n",
    "clf.fit(X_train, y_train)\n",
    "\n",
    "from sklearn.metrics import plot_confusion_matrix\n",
    "plot_confusion_matrix(clf, X_test, y_test)\n",
    "plt.show()"
   ]
  },
  {
   "cell_type": "code",
   "execution_count": 70,
   "id": "5611a338",
   "metadata": {},
   "outputs": [
    {
     "data": {
      "text/plain": [
       "<AxesSubplot:>"
      ]
     },
     "execution_count": 70,
     "metadata": {},
     "output_type": "execute_result"
    },
    {
     "data": {
      "image/png": "[encoded data removed]",
      "text/plain": [
       "<Figure size 432x288 with 2 Axes>"
      ]
     },
     "metadata": {
      "needs_background": "light"
     },
     "output_type": "display_data"
    }
   ],
   "source": [
    "from sklearn.metrics import confusion_matrix\n",
    "y_pred = clf.predict(X_test)\n",
    "confusion_matrix(y_test, y_pred)\n",
    "sns.heatmap(confusion_matrix(y_test, y_pred), annot = True)"
   ]
  },
  {
   "cell_type": "code",
   "execution_count": 71,
   "id": "052c66b5",
   "metadata": {},
   "outputs": [
    {
     "name": "stdout",
     "output_type": "stream",
     "text": [
      "              precision    recall  f1-score   support\n",
      "\n",
      " Negative(0)       0.90      0.99      0.94        67\n",
      " Positive(1)       0.98      0.85      0.91        47\n",
      "\n",
      "    accuracy                           0.93       114\n",
      "   macro avg       0.94      0.92      0.93       114\n",
      "weighted avg       0.93      0.93      0.93       114\n",
      "\n"
     ]
    }
   ],
   "source": [
    "from sklearn.metrics import classification_report\n",
    "target_names = ['Negative(0)', 'Positive(1)']\n",
    "print(classification_report(y_test, y_pred, target_names=target_names))"
   ]
  },
  {
   "cell_type": "code",
   "execution_count": 72,
   "id": "d8070ef3",
   "metadata": {
    "scrolled": true
   },
   "outputs": [
    {
     "name": "stdout",
     "output_type": "stream",
     "text": [
      "              precision    recall  f1-score   support\n",
      "\n",
      " Negative(0)       0.90      0.99      0.94        67\n",
      " Positive(1)       0.98      0.85      0.91        47\n",
      "\n",
      "    accuracy                           0.93       114\n",
      "   macro avg       0.94      0.92      0.93       114\n",
      "weighted avg       0.93      0.93      0.93       114\n",
      "\n"
     ]
    }
   ],
   "source": [
    "from sklearn.metrics import classification_report\n",
    "y_pred = clf.predict(X_test)\n",
    "target_names = ['Negative(0)', 'Positive(1)']\n",
    "print(classification_report(y_test, y_pred, target_names=target_names))"
   ]
  },
  {
   "cell_type": "code",
   "execution_count": 73,
   "id": "9d375756",
   "metadata": {},
   "outputs": [
    {
     "data": {
      "image/png": "[encoded data removed]",
      "text/plain": [
       "<Figure size 432x288 with 1 Axes>"
      ]
     },
     "metadata": {
      "needs_background": "light"
     },
     "output_type": "display_data"
    }
   ],
   "source": [
    "from sklearn.metrics import plot_roc_curve\n",
    "plot_roc_curve(clf, X_test, y_test)  \n",
    "plt.show()"
   ]
  },
  {
   "cell_type": "code",
   "execution_count": 74,
   "id": "robust-chemical",
   "metadata": {},
   "outputs": [
    {
     "data": {
      "text/plain": [
       "array([[4.47190021e-01, 5.52809979e-01],\n",
       "       [9.32056319e-01, 6.79436813e-02],\n",
       "       [9.06245895e-01, 9.37541050e-02],\n",
       "       [6.26383128e-01, 3.73616872e-01],\n",
       "       [9.71464229e-01, 2.85357711e-02],\n",
       "       [9.65569742e-01, 3.44302584e-02],\n",
       "       [9.73985585e-01, 2.60144153e-02],\n",
       "       [9.70308447e-01, 2.96915528e-02],\n",
       "       [9.55855313e-01, 4.41446874e-02],\n",
       "       [9.76665840e-01, 2.33341602e-02],\n",
       "       [6.68061451e-01, 3.31938549e-01],\n",
       "       [6.99722136e-01, 3.00277864e-01],\n",
       "       [9.73952199e-01, 2.60478011e-02],\n",
       "       [1.14557359e-01, 8.85442641e-01],\n",
       "       [6.90059522e-01, 3.09940478e-01],\n",
       "       [2.88773708e-02, 9.71122629e-01],\n",
       "       [9.68514766e-01, 3.14852341e-02],\n",
       "       [1.78786592e-07, 9.99999821e-01],\n",
       "       [5.02048260e-03, 9.94979517e-01],\n",
       "       [2.45950428e-07, 9.99999754e-01],\n",
       "       [1.96470240e-01, 8.03529760e-01],\n",
       "       [9.92370856e-02, 9.00762914e-01],\n",
       "       [9.13800043e-01, 8.61999569e-02],\n",
       "       [9.49010708e-01, 5.09892923e-02],\n",
       "       [5.38662789e-06, 9.99994613e-01],\n",
       "       [9.31303134e-01, 6.86968662e-02],\n",
       "       [9.62490223e-01, 3.75097773e-02],\n",
       "       [8.78762282e-01, 1.21237718e-01],\n",
       "       [9.12518326e-01, 8.74816743e-02],\n",
       "       [2.63193871e-08, 9.99999974e-01],\n",
       "       [9.59674878e-01, 4.03251222e-02],\n",
       "       [1.75815339e-07, 9.99999824e-01],\n",
       "       [8.69528224e-01, 1.30471776e-01],\n",
       "       [1.19165591e-02, 9.88083441e-01],\n",
       "       [9.72800396e-01, 2.71996041e-02],\n",
       "       [2.44443458e-01, 7.55556542e-01],\n",
       "       [8.45444729e-01, 1.54555271e-01],\n",
       "       [7.19612678e-07, 9.99999280e-01],\n",
       "       [7.86983519e-01, 2.13016481e-01],\n",
       "       [5.50236142e-02, 9.44976386e-01],\n",
       "       [2.80543797e-01, 7.19456203e-01],\n",
       "       [9.66934342e-01, 3.30656581e-02],\n",
       "       [1.67046203e-02, 9.83295380e-01],\n",
       "       [9.73104451e-01, 2.68955490e-02],\n",
       "       [7.89714920e-01, 2.10285080e-01],\n",
       "       [6.95448435e-07, 9.99999305e-01],\n",
       "       [9.69887123e-01, 3.01128774e-02],\n",
       "       [8.66815361e-01, 1.33184639e-01],\n",
       "       [9.70554459e-01, 2.94455406e-02],\n",
       "       [2.08535716e-01, 7.91464284e-01],\n",
       "       [3.24353100e-03, 9.96756469e-01],\n",
       "       [7.59684993e-01, 2.40315007e-01],\n",
       "       [2.14566576e-07, 9.99999785e-01],\n",
       "       [9.65645794e-01, 3.43542059e-02],\n",
       "       [9.58037930e-01, 4.19620699e-02],\n",
       "       [9.69273247e-01, 3.07267530e-02],\n",
       "       [9.72965172e-01, 2.70348280e-02],\n",
       "       [9.51300445e-01, 4.86995546e-02],\n",
       "       [9.56828335e-01, 4.31716653e-02],\n",
       "       [3.66555965e-06, 9.99996334e-01],\n",
       "       [6.08511507e-01, 3.91488493e-01],\n",
       "       [5.90005615e-03, 9.94099944e-01],\n",
       "       [9.70595680e-01, 2.94043197e-02],\n",
       "       [9.46564497e-01, 5.34355034e-02],\n",
       "       [1.38114720e-06, 9.99998619e-01],\n",
       "       [9.40939324e-01, 5.90606757e-02],\n",
       "       [3.59574614e-06, 9.99996404e-01],\n",
       "       [1.90200629e-06, 9.99998098e-01],\n",
       "       [5.03691274e-07, 9.99999496e-01],\n",
       "       [9.69629743e-01, 3.03702569e-02],\n",
       "       [4.74242285e-01, 5.25757715e-01],\n",
       "       [8.53676495e-06, 9.99991463e-01],\n",
       "       [9.65175144e-01, 3.48248556e-02],\n",
       "       [8.19142251e-01, 1.80857749e-01],\n",
       "       [3.01340483e-07, 9.99999699e-01],\n",
       "       [9.29207267e-01, 7.07927334e-02],\n",
       "       [9.66399919e-01, 3.36000814e-02],\n",
       "       [9.49363481e-01, 5.06365187e-02],\n",
       "       [9.48455701e-01, 5.15442985e-02],\n",
       "       [9.62420765e-01, 3.75792347e-02],\n",
       "       [2.82749224e-02, 9.71725078e-01],\n",
       "       [4.80162806e-07, 9.99999520e-01],\n",
       "       [2.79926955e-03, 9.97200730e-01],\n",
       "       [9.71693776e-01, 2.83062243e-02],\n",
       "       [5.50159642e-02, 9.44984036e-01],\n",
       "       [9.58549993e-01, 4.14500075e-02],\n",
       "       [8.75969868e-01, 1.24030132e-01],\n",
       "       [9.65074738e-01, 3.49252615e-02],\n",
       "       [1.18019833e-06, 9.99998820e-01],\n",
       "       [1.26247650e-07, 9.99999874e-01],\n",
       "       [9.73508225e-01, 2.64917748e-02],\n",
       "       [1.41559926e-01, 8.58440074e-01],\n",
       "       [5.00000000e-01, 5.00000000e-01],\n",
       "       [3.33497577e-01, 6.66502423e-01],\n",
       "       [9.64374091e-01, 3.56259086e-02],\n",
       "       [9.71405505e-01, 2.85944952e-02],\n",
       "       [6.92417702e-09, 9.99999993e-01],\n",
       "       [9.18437865e-01, 8.15621348e-02],\n",
       "       [9.54928066e-01, 4.50719337e-02],\n",
       "       [9.58738528e-01, 4.12614717e-02],\n",
       "       [9.70451664e-01, 2.95483360e-02],\n",
       "       [9.60990405e-01, 3.90095946e-02],\n",
       "       [7.86804220e-01, 2.13195780e-01],\n",
       "       [8.75695096e-01, 1.24304904e-01],\n",
       "       [1.75963592e-07, 9.99999824e-01],\n",
       "       [9.69603832e-01, 3.03961676e-02],\n",
       "       [3.45785302e-03, 9.96542147e-01],\n",
       "       [8.63232297e-01, 1.36767703e-01],\n",
       "       [1.59564360e-01, 8.40435640e-01],\n",
       "       [1.49049475e-01, 8.50950525e-01],\n",
       "       [9.23098006e-01, 7.69019944e-02],\n",
       "       [4.58385762e-06, 9.99995416e-01],\n",
       "       [8.51069363e-07, 9.99999149e-01],\n",
       "       [5.38901173e-01, 4.61098827e-01]])"
      ]
     },
     "execution_count": 74,
     "metadata": {},
     "output_type": "execute_result"
    }
   ],
   "source": [
    "# 0일 확률, 1일 확률\n",
    "clf.predict_proba(X_test)"
   ]
  },
  {
   "cell_type": "code",
   "execution_count": 75,
   "id": "brave-spine",
   "metadata": {},
   "outputs": [
    {
     "data": {
      "text/plain": [
       "array([1., 1., 1., 1., 1., 1., 1., 1., 1., 1., 1., 1., 1., 1., 1., 1., 1.,\n",
       "       1., 1., 1., 1., 1., 1., 1., 1., 1., 1., 1., 1., 1., 1., 1., 1., 1.,\n",
       "       1., 1., 1., 1., 1., 1., 1., 1., 1., 1., 1., 1., 1., 1., 1., 1., 1.,\n",
       "       1., 1., 1., 1., 1., 1., 1., 1., 1., 1., 1., 1., 1., 1., 1., 1., 1.,\n",
       "       1., 1., 1., 1., 1., 1., 1., 1., 1., 1., 1., 1., 1., 1., 1., 1., 1.,\n",
       "       1., 1., 1., 1., 1., 1., 1., 1., 1., 1., 1., 1., 1., 1., 1., 1., 1.,\n",
       "       1., 1., 1., 1., 1., 1., 1., 1., 1., 1., 1., 1.])"
      ]
     },
     "execution_count": 75,
     "metadata": {},
     "output_type": "execute_result"
    }
   ],
   "source": [
    "clf.predict_proba(X_test).sum(axis=1)"
   ]
  },
  {
   "cell_type": "code",
   "execution_count": 76,
   "id": "timely-turkish",
   "metadata": {},
   "outputs": [
    {
     "data": {
      "text/plain": [
       "512    1\n",
       "457    0\n",
       "439    0\n",
       "298    0\n",
       "37     0\n",
       "      ..\n",
       "213    1\n",
       "519    0\n",
       "432    1\n",
       "516    1\n",
       "500    0\n",
       "Name: target, Length: 114, dtype: int64"
      ]
     },
     "execution_count": 76,
     "metadata": {},
     "output_type": "execute_result"
    }
   ],
   "source": [
    "y_test"
   ]
  },
  {
   "cell_type": "code",
   "execution_count": 77,
   "id": "fabulous-conducting",
   "metadata": {},
   "outputs": [
    {
     "data": {
      "text/plain": [
       "0.9385964912280702"
      ]
     },
     "execution_count": 77,
     "metadata": {},
     "output_type": "execute_result"
    }
   ],
   "source": [
    "((clf.predict_proba(X_test)[:,1] >= 0.5) == y_test).mean()"
   ]
  },
  {
   "cell_type": "code",
   "execution_count": null,
   "id": "dying-gathering",
   "metadata": {},
   "outputs": [],
   "source": []
  },
  {
   "cell_type": "code",
   "execution_count": null,
   "id": "connected-bahrain",
   "metadata": {},
   "outputs": [],
   "source": []
  },
  {
   "cell_type": "code",
   "execution_count": 78,
   "id": "affbee38",
   "metadata": {},
   "outputs": [
    {
     "data": {
      "text/plain": [
       "0.9844395046046364"
      ]
     },
     "execution_count": 78,
     "metadata": {},
     "output_type": "execute_result"
    }
   ],
   "source": [
    "from sklearn.metrics import roc_auc_score\n",
    "y_score = clf.predict_proba(X_test)[:, 1]\n",
    "\n",
    "roc_auc_score(y_test, y_score)"
   ]
  },
  {
   "cell_type": "code",
   "execution_count": 79,
   "id": "7326f673",
   "metadata": {},
   "outputs": [
    {
     "name": "stdout",
     "output_type": "stream",
     "text": [
      "Average precision-recall score: 0.98\n"
     ]
    }
   ],
   "source": [
    "from sklearn.metrics import average_precision_score\n",
    "average_precision = average_precision_score(y_test, y_score)\n",
    "print('Average precision-recall score: {0:0.2f}'.format(average_precision))"
   ]
  },
  {
   "cell_type": "code",
   "execution_count": 80,
   "id": "a070b35f",
   "metadata": {},
   "outputs": [
    {
     "data": {
      "text/plain": [
       "Text(0.5, 1.0, '2-class Precision-Recall curve: AP=0.98')"
      ]
     },
     "execution_count": 80,
     "metadata": {},
     "output_type": "execute_result"
    },
    {
     "data": {
      "image/png": "[encoded data removed]",
      "text/plain": [
       "<Figure size 432x288 with 1 Axes>"
      ]
     },
     "metadata": {
      "needs_background": "light"
     },
     "output_type": "display_data"
    }
   ],
   "source": [
    "from sklearn.metrics import plot_precision_recall_curve\n",
    "\n",
    "disp = plot_precision_recall_curve(clf, X_test, y_test)\n",
    "disp.ax_.set_title('2-class Precision-Recall curve: ' 'AP={0:0.2f}'.format(average_precision))"
   ]
  },
  {
   "cell_type": "code",
   "execution_count": 81,
   "id": "150f1784",
   "metadata": {},
   "outputs": [
    {
     "data": {
      "text/plain": [
       "0.04665283092042529"
      ]
     },
     "execution_count": 81,
     "metadata": {},
     "output_type": "execute_result"
    }
   ],
   "source": [
    "from sklearn.metrics import brier_score_loss\n",
    "brier_score_loss(y_test, y_score)\n"
   ]
  },
  {
   "cell_type": "code",
   "execution_count": 82,
   "id": "ea7b7f4f",
   "metadata": {},
   "outputs": [],
   "source": [
    "y_probas = clf.predict_proba(X_test)"
   ]
  },
  {
   "cell_type": "code",
   "execution_count": 83,
   "id": "3510f547",
   "metadata": {},
   "outputs": [
    {
     "data": {
      "text/plain": [
       "<AxesSubplot:title={'center':'ROC Curves'}, xlabel='False Positive Rate', ylabel='True Positive Rate'>"
      ]
     },
     "execution_count": 83,
     "metadata": {},
     "output_type": "execute_result"
    },
    {
     "data": {
      "image/png": "[encoded data removed]",
      "text/plain": [
       "<Figure size 432x288 with 1 Axes>"
      ]
     },
     "metadata": {
      "needs_background": "light"
     },
     "output_type": "display_data"
    }
   ],
   "source": [
    "import scikitplot as skplt \n",
    "skplt.metrics.plot_roc(y_test, y_probas)"
   ]
  },
  {
   "cell_type": "code",
   "execution_count": 84,
   "id": "51f48c4b",
   "metadata": {},
   "outputs": [
    {
     "data": {
      "text/plain": [
       "<AxesSubplot:title={'center':'Precision-Recall Curve'}, xlabel='Recall', ylabel='Precision'>"
      ]
     },
     "execution_count": 84,
     "metadata": {},
     "output_type": "execute_result"
    },
    {
     "data": {
      "image/png": "[encoded data removed]",
      "text/plain": [
       "<Figure size 432x288 with 1 Axes>"
      ]
     },
     "metadata": {
      "needs_background": "light"
     },
     "output_type": "display_data"
    }
   ],
   "source": [
    "skplt.metrics.plot_precision_recall(y_test, y_probas)"
   ]
  },
  {
   "cell_type": "code",
   "execution_count": 85,
   "id": "6b42e9fd",
   "metadata": {},
   "outputs": [
    {
     "data": {
      "image/png": "[encoded data removed]",
      "text/plain": [
       "<Figure size 432x288 with 1 Axes>"
      ]
     },
     "metadata": {
      "needs_background": "light"
     },
     "output_type": "display_data"
    },
    {
     "data": {
      "text/plain": [
       "<AxesSubplot:title={'center':'Cumulative Gains Curve'}, xlabel='Percentage of sample', ylabel='Gain'>"
      ]
     },
     "execution_count": 85,
     "metadata": {},
     "output_type": "execute_result"
    },
    {
     "data": {
      "image/png": "[encoded data removed]",
      "text/plain": [
       "<Figure size 432x288 with 1 Axes>"
      ]
     },
     "metadata": {
      "needs_background": "light"
     },
     "output_type": "display_data"
    }
   ],
   "source": [
    "skplt.metrics.plot_lift_curve(y_test, y_probas); plt.show()\n",
    "skplt.metrics.plot_cumulative_gain(y_test, y_probas)"
   ]
  },
  {
   "cell_type": "code",
   "execution_count": 86,
   "id": "80ca1af2",
   "metadata": {
    "scrolled": true
   },
   "outputs": [
    {
     "data": {
      "text/plain": [
       "KstestResult(statistic=0.05263157894736842, pvalue=0.9976688849230171)"
      ]
     },
     "execution_count": 86,
     "metadata": {},
     "output_type": "execute_result"
    },
    {
     "data": {
      "image/png": "[encoded data removed]",
      "text/plain": [
       "<Figure size 432x288 with 1 Axes>"
      ]
     },
     "metadata": {
      "needs_background": "light"
     },
     "output_type": "display_data"
    }
   ],
   "source": [
    "skplt.metrics.plot_ks_statistic(y_test, y_probas)\n",
    "from scipy.stats import ks_2samp\n",
    "ks_2samp(y_test, y_pred)"
   ]
  },
  {
   "cell_type": "code",
   "execution_count": 87,
   "id": "d72b7321",
   "metadata": {},
   "outputs": [
    {
     "data": {
      "text/plain": [
       "0.16363723956504195"
      ]
     },
     "execution_count": 87,
     "metadata": {},
     "output_type": "execute_result"
    }
   ],
   "source": [
    "from sklearn.metrics import log_loss\n",
    "log_loss(y_test, y_probas)\n"
   ]
  },
  {
   "cell_type": "code",
   "execution_count": 88,
   "id": "db30fd6e",
   "metadata": {},
   "outputs": [
    {
     "data": {
      "text/plain": [
       "0.8576521296725972"
      ]
     },
     "execution_count": 88,
     "metadata": {},
     "output_type": "execute_result"
    }
   ],
   "source": [
    "from sklearn.metrics import matthews_corrcoef\n",
    "matthews_corrcoef(y_test, y_pred)\n"
   ]
  },
  {
   "cell_type": "code",
   "execution_count": 89,
   "id": "bd4a3dd7",
   "metadata": {},
   "outputs": [
    {
     "data": {
      "text/plain": [
       "0.8523794108125606"
      ]
     },
     "execution_count": 89,
     "metadata": {},
     "output_type": "execute_result"
    }
   ],
   "source": [
    "from sklearn.metrics import cohen_kappa_score\n",
    "cohen_kappa_score(y_test, y_pred)"
   ]
  },
  {
   "cell_type": "markdown",
   "id": "a8ff8296",
   "metadata": {},
   "source": [
    "# End"
   ]
  },
  {
   "cell_type": "code",
   "execution_count": null,
   "id": "724f272c",
   "metadata": {},
   "outputs": [],
   "source": []
  }
 ],
 "metadata": {
  "kernelspec": {
   "display_name": "Python 3",
   "language": "python",
   "name": "python3"
  },
  "language_info": {
   "codemirror_mode": {
    "name": "ipython",
    "version": 3
   },
   "file_extension": ".py",
   "mimetype": "text/x-python",
   "name": "python",
   "nbconvert_exporter": "python",
   "pygments_lexer": "ipython3",
   "version": "3.8.8"
  }
 },
 "nbformat": 4,
 "nbformat_minor": 5
}
